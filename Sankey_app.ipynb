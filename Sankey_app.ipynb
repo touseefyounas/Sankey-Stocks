{
  "nbformat": 4,
  "nbformat_minor": 0,
  "metadata": {
    "colab": {
      "provenance": [],
      "authorship_tag": "ABX9TyO9xTPry4viT4omusgFZ4ml",
      "include_colab_link": true
    },
    "kernelspec": {
      "name": "python3",
      "display_name": "Python 3"
    },
    "language_info": {
      "name": "python"
    }
  },
  "cells": [
    {
      "cell_type": "markdown",
      "metadata": {
        "id": "view-in-github",
        "colab_type": "text"
      },
      "source": [
        "<a href=\"https://colab.research.google.com/github/touseefyounas/Sankey-Stocks/blob/main/Sankey_app.ipynb\" target=\"_parent\"><img src=\"https://colab.research.google.com/assets/colab-badge.svg\" alt=\"Open In Colab\"/></a>"
      ]
    },
    {
      "cell_type": "code",
      "source": [
        "pip install dash-bootstrap-templates"
      ],
      "metadata": {
        "colab": {
          "base_uri": "https://localhost:8080/"
        },
        "id": "Nl5_4Pp_Lp83",
        "outputId": "66b45ff1-caa6-472c-b435-a5a0e7ac102a"
      },
      "execution_count": 8,
      "outputs": [
        {
          "output_type": "stream",
          "name": "stdout",
          "text": [
            "Collecting dash-bootstrap-templates\n",
            "  Downloading dash_bootstrap_templates-1.1.1-py3-none-any.whl (96 kB)\n",
            "\u001b[?25l     \u001b[90m━━━━━━━━━━━━━━━━━━━━━━━━━━━━━━━━━━━━━━━━\u001b[0m \u001b[32m0.0/96.7 kB\u001b[0m \u001b[31m?\u001b[0m eta \u001b[36m-:--:--\u001b[0m\r\u001b[2K     \u001b[91m━━━━━━━━━━━━━━━━━━━━━━━━━━━━━━━━━━━━━━\u001b[0m\u001b[90m╺\u001b[0m\u001b[90m━\u001b[0m \u001b[32m92.2/96.7 kB\u001b[0m \u001b[31m2.6 MB/s\u001b[0m eta \u001b[36m0:00:01\u001b[0m\r\u001b[2K     \u001b[90m━━━━━━━━━━━━━━━━━━━━━━━━━━━━━━━━━━━━━━━━\u001b[0m \u001b[32m96.7/96.7 kB\u001b[0m \u001b[31m2.2 MB/s\u001b[0m eta \u001b[36m0:00:00\u001b[0m\n",
            "\u001b[?25hRequirement already satisfied: dash in /usr/local/lib/python3.10/dist-packages (from dash-bootstrap-templates) (2.14.1)\n",
            "Requirement already satisfied: dash-bootstrap-components>=1.0.0 in /usr/local/lib/python3.10/dist-packages (from dash-bootstrap-templates) (1.5.0)\n",
            "Requirement already satisfied: numpy in /usr/local/lib/python3.10/dist-packages (from dash-bootstrap-templates) (1.23.5)\n",
            "Requirement already satisfied: Flask<3.1,>=1.0.4 in /usr/local/lib/python3.10/dist-packages (from dash->dash-bootstrap-templates) (2.2.5)\n",
            "Requirement already satisfied: Werkzeug<3.1 in /usr/local/lib/python3.10/dist-packages (from dash->dash-bootstrap-templates) (3.0.1)\n",
            "Requirement already satisfied: plotly>=5.0.0 in /usr/local/lib/python3.10/dist-packages (from dash->dash-bootstrap-templates) (5.15.0)\n",
            "Requirement already satisfied: dash-html-components==2.0.0 in /usr/local/lib/python3.10/dist-packages (from dash->dash-bootstrap-templates) (2.0.0)\n",
            "Requirement already satisfied: dash-core-components==2.0.0 in /usr/local/lib/python3.10/dist-packages (from dash->dash-bootstrap-templates) (2.0.0)\n",
            "Requirement already satisfied: dash-table==5.0.0 in /usr/local/lib/python3.10/dist-packages (from dash->dash-bootstrap-templates) (5.0.0)\n",
            "Requirement already satisfied: typing-extensions>=4.1.1 in /usr/local/lib/python3.10/dist-packages (from dash->dash-bootstrap-templates) (4.5.0)\n",
            "Requirement already satisfied: requests in /usr/local/lib/python3.10/dist-packages (from dash->dash-bootstrap-templates) (2.31.0)\n",
            "Requirement already satisfied: retrying in /usr/local/lib/python3.10/dist-packages (from dash->dash-bootstrap-templates) (1.3.4)\n",
            "Requirement already satisfied: ansi2html in /usr/local/lib/python3.10/dist-packages (from dash->dash-bootstrap-templates) (1.8.0)\n",
            "Requirement already satisfied: nest-asyncio in /usr/local/lib/python3.10/dist-packages (from dash->dash-bootstrap-templates) (1.5.8)\n",
            "Requirement already satisfied: setuptools in /usr/local/lib/python3.10/dist-packages (from dash->dash-bootstrap-templates) (67.7.2)\n",
            "Requirement already satisfied: importlib-metadata in /usr/local/lib/python3.10/dist-packages (from dash->dash-bootstrap-templates) (6.8.0)\n",
            "Requirement already satisfied: Jinja2>=3.0 in /usr/local/lib/python3.10/dist-packages (from Flask<3.1,>=1.0.4->dash->dash-bootstrap-templates) (3.1.2)\n",
            "Requirement already satisfied: itsdangerous>=2.0 in /usr/local/lib/python3.10/dist-packages (from Flask<3.1,>=1.0.4->dash->dash-bootstrap-templates) (2.1.2)\n",
            "Requirement already satisfied: click>=8.0 in /usr/local/lib/python3.10/dist-packages (from Flask<3.1,>=1.0.4->dash->dash-bootstrap-templates) (8.1.7)\n",
            "Requirement already satisfied: tenacity>=6.2.0 in /usr/local/lib/python3.10/dist-packages (from plotly>=5.0.0->dash->dash-bootstrap-templates) (8.2.3)\n",
            "Requirement already satisfied: packaging in /usr/local/lib/python3.10/dist-packages (from plotly>=5.0.0->dash->dash-bootstrap-templates) (23.2)\n",
            "Requirement already satisfied: MarkupSafe>=2.1.1 in /usr/local/lib/python3.10/dist-packages (from Werkzeug<3.1->dash->dash-bootstrap-templates) (2.1.3)\n",
            "Requirement already satisfied: zipp>=0.5 in /usr/local/lib/python3.10/dist-packages (from importlib-metadata->dash->dash-bootstrap-templates) (3.17.0)\n",
            "Requirement already satisfied: charset-normalizer<4,>=2 in /usr/local/lib/python3.10/dist-packages (from requests->dash->dash-bootstrap-templates) (3.3.2)\n",
            "Requirement already satisfied: idna<4,>=2.5 in /usr/local/lib/python3.10/dist-packages (from requests->dash->dash-bootstrap-templates) (3.4)\n",
            "Requirement already satisfied: urllib3<3,>=1.21.1 in /usr/local/lib/python3.10/dist-packages (from requests->dash->dash-bootstrap-templates) (2.0.7)\n",
            "Requirement already satisfied: certifi>=2017.4.17 in /usr/local/lib/python3.10/dist-packages (from requests->dash->dash-bootstrap-templates) (2023.7.22)\n",
            "Requirement already satisfied: six>=1.7.0 in /usr/local/lib/python3.10/dist-packages (from retrying->dash->dash-bootstrap-templates) (1.16.0)\n",
            "Installing collected packages: dash-bootstrap-templates\n",
            "Successfully installed dash-bootstrap-templates-1.1.1\n"
          ]
        }
      ]
    },
    {
      "cell_type": "code",
      "source": [
        "from dash import Dash,dcc,html\n",
        "from dash.dependencies import Input, Output\n",
        "import requests\n",
        "import pandas as pd\n",
        "import plotly.express as px\n",
        "import numpy as np\n",
        "import plotly.graph_objects as go\n",
        "import dash_bootstrap_components as dbc\n",
        "from dash_bootstrap_templates import load_figure_template\n",
        "import time"
      ],
      "metadata": {
        "id": "wVB31KcWLkW6"
      },
      "execution_count": 9,
      "outputs": []
    },
    {
      "cell_type": "code",
      "execution_count": null,
      "metadata": {
        "id": "xdwG_yUuJjJ-"
      },
      "outputs": [],
      "source": [
        "# Create a Dash app\n",
        "app = dash.Dash(__name__)\n",
        "\n",
        "# Define the layout of the app\n",
        "app.layout = html.Div([\n",
        "    html.H1(\"Financial Statement Sankey Diagram\"),\n",
        "\n",
        "    # Dropdown to select financial statement type\n",
        "    html.Label('Financial Statement Type:'),\n",
        "    dcc.Dropdown(\n",
        "        id='financial-statement-dropdown',\n",
        "        options=[\n",
        "            {'label': 'Income Statement', 'value': 'income-statement'},\n",
        "            # {'label': 'Balance Sheet', 'value': 'balance-sheet'},\n",
        "            # {'label': 'Cashflow Statement', 'value': 'cashflow-statement'}\n",
        "        ],\n",
        "        value='income-statement',  # Default value\n",
        "        multi=False\n",
        "    ),\n",
        "\n",
        "    # Radio items to select quarterly or annual\n",
        "    # html.Lable('Reporting Period:'),\n",
        "    # dcc.RadioItems(\n",
        "    #     id='quarterly-annual-radio',\n",
        "    #     options=[\n",
        "    #         {'label': 'Quarterly', 'value': 'incomeStatementHistory'},\n",
        "    #         {'label': 'Annual', 'value': 'annual'}\n",
        "    #     ],\n",
        "    #     value='quarterly',  # Default value\n",
        "    #     labelStyle={'display': 'block'}\n",
        "    # ),\n",
        "\n",
        "    # Input for stock symbol\n",
        "    html.Label('Stock Ticker:'),\n",
        "    dcc.Input(\n",
        "        id='stock-symbol-input',\n",
        "        type='text',\n",
        "        placeholder='Enter stock symbol',\n",
        "        debounce=True\n",
        "    ),\n",
        "\n",
        "    # Dropdown to select statement period\n",
        "    dcc.Dropdown(\n",
        "        id='statement-period-dropdown',\n",
        "        options=[\n",
        "            {'label': 'Q2 2023', 'value': 0},\n",
        "            {'label': 'Q1 2023', 'value': 1},\n",
        "            {'label': 'Q4 2022', 'value': 2},\n",
        "            {'label': 'Q3 2022', 'value': 3},\n",
        "            # Add more options as needed\n",
        "        ],\n",
        "        value='Q2 2023',  # Default value\n",
        "        multi=False\n",
        "    ),\n",
        "\n",
        "    # Sankey diagram figure (to be added later)\n",
        "    dcc.Graph(\n",
        "        id='sankey-diagram'\n",
        "    )\n",
        "])\n",
        "\n",
        "# Define callback to update Sankey diagram based on user input\n",
        "@app.callback(\n",
        "    Output('sankey-diagram', 'figure'),\n",
        "    [\n",
        "        Input('financial-statement-dropdown', 'value'),\n",
        "        Input('quarterly-annual-radio', 'value'),\n",
        "        Input('stock-symbol-input', 'value'),\n",
        "        Input('statement-period-dropdown', 'value')\n",
        "    ]\n",
        ")\n",
        "def update_sankey_diagram(selected_statement, selected_frequency, stock_symbol, selected_period):\n",
        "    # Add code here to generate and return the Sankey diagram figure based on user input\n",
        "    # You'll need to fetch data and create the Sankey diagram figure\n",
        "    # Return the figure based on your data processing\n",
        "\n",
        "    # Placeholder return value, replace with actual figure\n",
        "    return {\n",
        "        'data': [],\n",
        "        'layout': {}\n",
        "    }\n",
        "\n",
        "# Run the app\n",
        "if __name__ == '__main__':\n",
        "    app.run_server(debug=True)\n"
      ]
    }
  ]
}